{
 "cells": [
  {
   "cell_type": "code",
   "execution_count": 1,
   "id": "7744033c-5e02-4619-90dc-e7cbe1524f30",
   "metadata": {},
   "outputs": [],
   "source": [
    "import sys\n",
    "import yaml\n",
    "sys.path.append('../')\n",
    "import os\n",
    "import torch\n",
    "from misc import yaml_util as yu\n",
    "sys.path.append('../dataset')\n",
    "sys.path.append('../module')\n",
    "from matplotlib import pyplot as plt\n",
    "from torch.utils.data import DataLoader\n",
    "from misc import character_analysis as ca\n",
    "\n"
   ]
  },
  {
   "cell_type": "code",
   "execution_count": null,
   "id": "9d1d014a-0932-4987-96fd-092922b473be",
   "metadata": {},
   "outputs": [],
   "source": [
    "# datname = 'one_dim_signal'\n",
    "datname = 'one_dim_cyclic'\n",
    "modelname = 'fordebug'\n",
    "#modelname = 'mlp1layer_nonDim'\n",
    "# modelname = 'mask1layer'\n",
    "\n",
    "trainname = 'baseline'\n",
    "with open(f'''../cfg_data/{datname}.yaml''', 'rb') as f:\n",
    "    cfg_data = yaml.safe_load(f)\n",
    "\n",
    "cfg_data['args']['shift_label'] = True\n",
    "mydata = yu.load_component(cfg_data) \n",
    "\n",
    "myloader = DataLoader(mydata, batch_size=20,\n",
    "                        shuffle=True, \n",
    "                        num_workers=1,\n",
    "                        )\n",
    "\n",
    "\n",
    "seq, shift =  mydata[0]\n",
    "seq = seq[None, :]\n",
    "print(seq.shape)\n",
    "\n",
    "exp_name = f'''{datname}_{modelname}_{trainname}'''\n",
    "\n",
    "exppath = os.path.join(\"../dnftresult\", exp_name)\n",
    "if not os.path.exists(exppath):\n",
    "    raise NotImplementedError\n",
    "mymodelpath = f\"\"\"{exppath}/model.pt\"\"\"\n",
    "mymodel = torch.load(mymodelpath)\n",
    "mymodel = mymodel.to(0)\n",
    "mymodel"
   ]
  }
 ],
 "metadata": {
  "kernelspec": {
   "display_name": "Python 3 (ipykernel)",
   "language": "python",
   "name": "python3"
  },
  "language_info": {
   "codemirror_mode": {
    "name": "ipython",
    "version": 3
   },
   "file_extension": ".py",
   "mimetype": "text/x-python",
   "name": "python",
   "nbconvert_exporter": "python",
   "pygments_lexer": "ipython3",
   "version": "3.11.9"
  }
 },
 "nbformat": 4,
 "nbformat_minor": 5
}
