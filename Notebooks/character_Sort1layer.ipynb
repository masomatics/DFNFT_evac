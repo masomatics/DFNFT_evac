{
 "cells": [
  {
   "cell_type": "code",
   "execution_count": 1,
   "id": "3fab7fa7-dd26-432b-9b62-1b0f895fc07f",
   "metadata": {},
   "outputs": [
    {
     "name": "stdout",
     "output_type": "stream",
     "text": [
      "\u001b[0m\u001b[01;34mDoubleDat_CNN_baseline_images\u001b[0m/\n",
      "\u001b[01;34mDoubleDat_Plambda_image_RotMaskFeat1Reslayer_baseline_images\u001b[0m/\n",
      "\u001b[01;34mDoubleDat_Plambda_image_RotMaskFeat1layer_baseline_images\u001b[0m/\n",
      "\u001b[01;34mDoubleDat_Plambda_image_RotMaskFeat2Reslayer_baseline_images\u001b[0m/\n",
      "\u001b[01;34mDoubleDat_Plambda_image_RotMaskFeat2layer_baseline_images\u001b[0m/\n",
      "\u001b[01;34mDoubleDat_Plambda_image_RotMaskFeat2layer_ver2_baseline_images\u001b[0m/\n",
      "\u001b[01;34mDoubleDat_Plambda_image_RotMaskFeat2layer_ver3_baseline_images\u001b[0m/\n",
      "\u001b[01;34mDoubleDat_Plambda_image_RotMaskFeatCNN1layer_baseline_images\u001b[0m/\n",
      "\u001b[01;34mOneDCyclic_fordebug_baseline\u001b[0m/\n",
      "\u001b[01;34mOneDCyclic_mlp1layer_nonDim_baseline\u001b[0m/\n",
      "\u001b[01;34mOneDsignal_OddEvenTwo_ForOwnDecoder_trial_baseline\u001b[0m/\n",
      "\u001b[01;34mOneDsignal_OddEvenTwo_OneLayer_lasso_baseline\u001b[0m/\n",
      "\u001b[01;34mOneDsignal_OddEvenTwo_Trial_OwnDecoderTwo_baseline\u001b[0m/\n",
      "\u001b[01;34mOneDsignal_OddEvenTwo_Trial_OwnDecoder_baseline\u001b[0m/\n",
      "\u001b[01;34mOneDsignal_OddEvenTwo_Trial_OwnDecoder_sparse_baseline\u001b[0m/\n",
      "\u001b[01;34mOneDsignal_OddEvenTwo_Trial_OwnDecoder_sparse_two_baseline\u001b[0m/\n",
      "\u001b[01;34mOneDsignal_OddEven_ForOwnDecoder_trial_baseline\u001b[0m/\n",
      "\u001b[01;34mOneDsignal_OddEven_ForOwnDecoder_trial_slower\u001b[0m/\n",
      "\u001b[01;34mOneDsignal_OddEven_OneLayer_lasso_baseline\u001b[0m/\n",
      "\u001b[01;34mOneDsignal_OddEven_OneLayer_lasso_long_hor\u001b[0m/\n",
      "\u001b[01;34mOneDsignal_OddEven_Plambda_trial_baseline\u001b[0m/\n",
      "\u001b[01;34mOneDsignal_OddEven_Plambda_trial_debug\u001b[0m/\n",
      "\u001b[01;34mOneDsignal_OddEven_Trial_Firstlayer_strong_baseline\u001b[0m/\n",
      "\u001b[01;34mOneDsignal_OddEven_Trial_OwnDecoderTwo_baseline\u001b[0m/\n",
      "\u001b[01;34mOneDsignal_OddEven_Trial_OwnDecoderTwo_debug\u001b[0m/\n",
      "\u001b[01;34mOneDsignal_OddEven_Trial_OwnDecoder_baseline\u001b[0m/\n",
      "\u001b[01;34mOneDsignal_OddEven_Trial_OwnDecoder_debug\u001b[0m/\n",
      "\u001b[01;34mOneDsignal_OddEven_Trial_OwnDecoder_sparse_baseline\u001b[0m/\n",
      "\u001b[01;34mOneDsignal_OddEven_Trial_OwnDecoder_sparse_debug\u001b[0m/\n",
      "\u001b[01;34mOneDsignal_OddEven_fordebugTwo_baseline\u001b[0m/\n",
      "\u001b[01;34mOneDsignal_OddEven_fordebugTwo_slower\u001b[0m/\n",
      "\u001b[01;34mOneDsignal_OddEven_longhor_EvEnd_OneLayer_lasso_long_hor\u001b[0m/\n",
      "\u001b[01;34mOneDsignal_OddEven_longhor_EvEnd_Trial_OwnDecoder_sparse_long_hor\u001b[0m/\n",
      "\u001b[01;34mOneDsignal_OddEven_longhor_OneLayer_lasso_baseline\u001b[0m/\n",
      "\u001b[01;34mOneDsignal_OddEven_longhor_OneLayer_lasso_debug\u001b[0m/\n",
      "\u001b[01;34mOneDsignal_OddEven_longhor_OneLayer_lasso_long_hor\u001b[0m/\n",
      "\u001b[01;34mOneDsignal_OddEven_longhor_Trial_OwnDecoder_long_hor\u001b[0m/\n",
      "\u001b[01;34mOneDsignal_OddEven_longhor_Trial_OwnDecoder_sparse_long_hor\u001b[0m/\n",
      "\u001b[01;34mOneDsignal_OddEven_mask1layer_baseline\u001b[0m/\n",
      "\u001b[01;34mOneDsignal_OddEven_mask1layer_debug\u001b[0m/\n",
      "\u001b[01;34mOneDsignal_OddEven_wide_OneLayer_lasso_faster\u001b[0m/\n",
      "\u001b[01;34mOneDsignal_OddEven_wide_Plambda_trial_baseline\u001b[0m/\n",
      "\u001b[01;34mOneDsignal_OddEven_wide_Plambda_trial_debug\u001b[0m/\n",
      "\u001b[01;34mOneDsignal_OddEven_wide_Plambda_trial_faster\u001b[0m/\n",
      "\u001b[01;34mOneDsignal_OddEven_wide_Plambda_trial_slower\u001b[0m/\n",
      "\u001b[01;34mOneDsignal_OddEven_wide_mask1layer_debug\u001b[0m/\n",
      "\u001b[01;34mOneDsignal_c8mimic_Plambda_OneD_RotFeat1layer_baseline\u001b[0m/\n",
      "\u001b[01;34mOneDsignal_c8mimic_Plambda_OneD_RotFeat1layer_ver2_baseline\u001b[0m/\n",
      "\u001b[01;34mOneDsignal_c8mimic_Plambda_OneD_RotFeat1layer_ver3_baseline\u001b[0m/\n",
      "\u001b[01;34mOneDsignal_c8mimic_Plambda_OneD_RotMaskFeat1layer_ver2_long_hor\u001b[0m/\n",
      "\u001b[01;34mOneDsignal_c8mimic_Plambda_OneD_RotMaskFeat2layer_baseline\u001b[0m/\n",
      "\u001b[01;34mOneDsignal_c8mimic_Plambda_OneD_RotMaskFeat2layer_long_hor\u001b[0m/\n",
      "\u001b[01;34mOneDsignal_c8mimic_fordebug_baseline\u001b[0m/\n",
      "\u001b[01;34mOneDsignal_c8mimic_lowpow_Plambda_OneD_RotFeat1layer_ver3_faster\u001b[0m/\n",
      "\u001b[01;34mOneDsignal_c8mimic_lowpow_Plambda_OneD_RotFeat1layer_ver4_faster\u001b[0m/\n",
      "\u001b[01;34mOneDsignal_c8mimic_lowpow_Plambda_OneD_RotFeat1layer_ver5_faster\u001b[0m/\n",
      "\u001b[01;34mOneDsignal_c8mimic_lowpow_Plambda_OneD_RotFeat1layer_ver6_baseline\u001b[0m/\n",
      "\u001b[01;34mOneDsignal_c8mimic_lowpow_Plambda_OneD_RotFeat1layer_ver6_debug\u001b[0m/\n",
      "\u001b[01;34mOneDsignal_c8mimic_lowpow_Plambda_OneD_RotFeat1layer_ver6_faster\u001b[0m/\n",
      "\u001b[01;34mOneDsignal_c8mimic_lowpow_Plambda_OneD_RotFeat1layer_ver7_debug\u001b[0m/\n",
      "\u001b[01;34mOneDsignal_c8mimic_lowpow_Plambda_OneD_RotFeat1layer_ver7_faster\u001b[0m/\n",
      "\u001b[01;34mOneDsignal_c8mimic_lowpow_Plambda_OneD_RotFeat2layer_faster\u001b[0m/\n",
      "\u001b[01;34mOneDsignal_c8mimic_lowpow_Plambda_OneD_RotFeat2layer_ver2_faster\u001b[0m/\n",
      "\u001b[01;34mOneDsignal_c8mimic_lowpow_Plambda_OneD_RotFeat3layer_faster\u001b[0m/\n",
      "\u001b[01;34mOneDsignal_c8mimic_lowpow_Plambda_OneD_RotMaskFeat1layer_debug\u001b[0m/\n",
      "\u001b[01;34mOneDsignal_c8mimic_lowpow_Plambda_OneD_RotMaskFeat1layer_faster\u001b[0m/\n",
      "\u001b[01;34mOneDsignal_c8mimic_lowpow_Plambda_OneD_RotMaskFeat2layer_debug\u001b[0m/\n",
      "\u001b[01;34mOneDsignal_c8mimic_lowpow_Plambda_OneD_RotMaskFeat2layer_debug_faster\u001b[0m/\n",
      "\u001b[01;34mOneDsignal_c8mimic_lowpow_Plambda_OneD_RotMaskFeat2layer_faster\u001b[0m/\n",
      "\u001b[01;34mOneDsignal_c8mimic_lowpow_Plambda_OneD_RotMaskFeat2layer_ownDec_faster\u001b[0m/\n",
      "\u001b[01;34mOneDsignal_c8mimic_lowpow_Plambda_OneD_RotMaskFeat3layer_debug\u001b[0m/\n",
      "\u001b[01;34mOneDsignal_c8mimic_lowpow_Plambda_OneD_RotMaskFeat3layer_debug_baseline\u001b[0m/\n",
      "\u001b[01;34mOneDsignal_c8mimic_lowpow_Plambda_OneD_RotMaskFeat3layer_debug_faster\u001b[0m/\n",
      "\u001b[01;34mOneDsignal_c8mimic_lowpow_Plambda_OneD_RotMaskFeat3layer_faster\u001b[0m/\n",
      "\u001b[01;34mOneDsignal_c8mimic_lowpow_Plambda_OneD_RotMaskFeat3layer_ownDec_faster\u001b[0m/\n",
      "\u001b[01;34mOneDsignal_c8mimic_lowpow_RotLin_OneD_1layer_baseline\u001b[0m/\n",
      "\u001b[01;34mOneDsignal_c8mimic_lowpow_RotLin_OneD_1layer_evenfaster\u001b[0m/\n",
      "\u001b[01;34mOneDsignal_c8mimic_lowpow_RotLin_OneD_1layer_faster\u001b[0m/\n",
      "\u001b[01;34mOneDsignal_c8mimic_lowpow_RotLin_OneD_1layer_large_batch\u001b[0m/\n",
      "\u001b[01;34mOneDsignal_c8mimic_mask1StackShallowlayer_baseline\u001b[0m/\n",
      "\u001b[01;34mOneDsignal_c8mimic_mask1Stacklayer_baseline\u001b[0m/\n",
      "\u001b[01;34mOneDsignal_c8mimic_mask1layer_baseline\u001b[0m/\n",
      "\u001b[01;34mOneDsignal_c8mimic_mask2Stacklayer_baseline\u001b[0m/\n",
      "\u001b[01;34mOneDsignal_fordebug_baseline\u001b[0m/\n",
      "\u001b[01;34mOneDsignal_highlow3e_fordebug_baseline\u001b[0m/\n",
      "\u001b[01;34mOneDsignal_highlow8m2_fordebug_baseline\u001b[0m/\n",
      "\u001b[01;34mOneDsignal_highlow8m_fordebug_baseline\u001b[0m/\n",
      "\u001b[01;34mOneDsignal_highlowTekiTo_fordebug_baseline\u001b[0m/\n",
      "\u001b[01;34mOneDsignal_mask1layer_baseline\u001b[0m/\n",
      "\u001b[01;34mOneDsignal_mlp1layer_Dimside_baseline\u001b[0m/\n",
      "\u001b[01;34mOneDsignal_mlp1layer_baseline\u001b[0m/\n",
      "\u001b[01;34mOneDsignal_mlp1layer_nonDim_baseline\u001b[0m/\n",
      "\u001b[01;34mOneDsignal_wverylowfreqLessPow_fordebug_baseline\u001b[0m/\n",
      "\u001b[01;34mOneDsignal_wverylowfreqMax24_fordebug_baseline\u001b[0m/\n",
      "\u001b[01;34mOneDsignal_wverylowfreq_fordebug_baseline\u001b[0m/\n",
      "\u001b[01;34mSingleDatLonghor_Plambda_image_RotFeat1layer_ver2_baseline_images\u001b[0m/\n",
      "\u001b[01;34mSingleDat_Plambda_image_1layer_baseline\u001b[0m/\n",
      "\u001b[01;34mSingleDat_Plambda_image_1layer_debug\u001b[0m/\n",
      "\u001b[01;34mSingleDat_Plambda_image_2layerHighVec_baseline\u001b[0m/\n",
      "\u001b[01;34mSingleDat_Plambda_image_2layerHighVec_debug\u001b[0m/\n",
      "\u001b[01;34mSingleDat_Plambda_image_2layerRot_baseline\u001b[0m/\n",
      "\u001b[01;34mSingleDat_Plambda_image_2layerVec_baseline\u001b[0m/\n",
      "\u001b[01;34mSingleDat_Plambda_image_2layer_baseline\u001b[0m/\n",
      "\u001b[01;34mSingleDat_Plambda_image_RotFeat1layer_baseline\u001b[0m/\n",
      "\u001b[01;34mSingleDat_Plambda_image_RotFeat1layer_debug\u001b[0m/\n",
      "\u001b[01;34mSingleDat_Plambda_image_RotFeat1layer_ver2_baseline\u001b[0m/\n",
      "\u001b[01;34mSingleDat_Plambda_image_RotFeat2layer_baseline\u001b[0m/\n",
      "\u001b[01;34mSingleDat_Plambda_image_RotFeat2layer_ver2_baseline\u001b[0m/\n",
      "\u001b[01;34mSingleDat_Plambda_image_RotFeatDeep1layer_baseline\u001b[0m/\n",
      "\u001b[01;34mSingleDat_Plambda_image_RotFeatDeep2layer_baseline\u001b[0m/\n",
      "\u001b[01;34mSingleDat_Plambda_image_baseline\u001b[0m/\n",
      "\u001b[01;34mSingleDat_Plambda_image_faster\u001b[0m/\n",
      "\u001b[01;34mvanillaX\u001b[0m/\n"
     ]
    }
   ],
   "source": [
    "ls ../dnftresult"
   ]
  },
  {
   "cell_type": "code",
   "execution_count": 2,
   "id": "cdde8b54-008e-4fec-96de-39adfee1dd83",
   "metadata": {},
   "outputs": [
    {
     "ename": "ModuleNotFoundError",
     "evalue": "No module named 'misc'",
     "output_type": "error",
     "traceback": [
      "\u001b[0;31m---------------------------------------------------------------------------\u001b[0m",
      "\u001b[0;31mModuleNotFoundError\u001b[0m                       Traceback (most recent call last)",
      "Cell \u001b[0;32mIn[2], line 7\u001b[0m\n\u001b[1;32m      5\u001b[0m \u001b[38;5;28;01mimport\u001b[39;00m \u001b[38;5;21;01mos\u001b[39;00m\n\u001b[1;32m      6\u001b[0m \u001b[38;5;28;01mimport\u001b[39;00m \u001b[38;5;21;01mtorch\u001b[39;00m\n\u001b[0;32m----> 7\u001b[0m \u001b[38;5;28;01mfrom\u001b[39;00m \u001b[38;5;21;01mmisc\u001b[39;00m \u001b[38;5;28;01mimport\u001b[39;00m yaml_util \u001b[38;5;28;01mas\u001b[39;00m yu\n\u001b[1;32m      8\u001b[0m \u001b[38;5;28;01mimport\u001b[39;00m \u001b[38;5;21;01mnumpy\u001b[39;00m \u001b[38;5;28;01mas\u001b[39;00m \u001b[38;5;21;01mnp\u001b[39;00m\n\u001b[1;32m     10\u001b[0m sys\u001b[38;5;241m.\u001b[39mpath\u001b[38;5;241m.\u001b[39mappend(\u001b[38;5;124m\"\u001b[39m\u001b[38;5;124m../dataset\u001b[39m\u001b[38;5;124m\"\u001b[39m)\n",
      "\u001b[0;31mModuleNotFoundError\u001b[0m: No module named 'misc'"
     ]
    }
   ],
   "source": [
    "import sys\n",
    "import yaml\n",
    "\n",
    "sys.path.append(\"./\")\n",
    "import os\n",
    "import torch\n",
    "from misc import yaml_util as yu\n",
    "import numpy as np\n",
    "\n",
    "sys.path.append(\"../dataset\")\n",
    "sys.path.append(\"../module\")\n",
    "from matplotlib import pyplot as plt\n",
    "from torch.utils.data import DataLoader\n",
    "from misc import character_analysis as ca\n",
    "from misc import loss_helper as lh\n",
    "import pdb\n",
    "import copy\n",
    "from module import ft_decimation as ftd\n",
    "\n",
    "import time\n",
    "\n",
    "\n",
    "datname = \"OneDsignal_c8mimic_lowpow\"\n",
    "modelname = \"Plambda_OneD_RotFeat1layer_ver3\"\n",
    "\n",
    "trainname = \"faster\"\n",
    "with open(f\"\"\"../cfg_data/{datname}.yaml\"\"\", \"rb\") as f:\n",
    "    cfg_data = yaml.safe_load(f)\n",
    "\n",
    "cfg_data[\"args\"][\"shift_label\"] = True\n",
    "mydata = yu.load_component(cfg_data)\n",
    "\n",
    "expname = f\"\"\"{datname}_{modelname}_{trainname}\"\"\"\n",
    "\n",
    "exppath = os.path.join(\"../dnftresult\", expname)\n",
    "\n",
    "mymodelpath = f\"\"\"{exppath}/model.pt\"\"\"\n",
    "mymodel = torch.load(mymodelpath)\n",
    "\n",
    "\n",
    "myloader = DataLoader(\n",
    "    mydata,\n",
    "    batch_size=32,\n",
    "    shuffle=True,\n",
    "    num_workers=2,\n",
    ")\n",
    "\n",
    "\n",
    "Ms = {0: [], 1: []}\n",
    "shifts = []\n",
    "\n",
    "if hasattr(mymodel, \"nftlayers\"):\n",
    "    mynft = mymodel.nftlayers[0]\n",
    "else:\n",
    "    mynft = mymodel\n",
    "\n",
    "if hasattr(mydata, \"nfreq\"):\n",
    "    for k in range(10):\n",
    "        evalseq, shift = next(iter(myloader))\n",
    "        evalseq = evalseq[:, :2].to(mynft.encoder.device)\n",
    "        predicted = mymodel(evalseq, n_rolls=1)\n",
    "        shifts.append(shift)\n",
    "        Ms[0].append(mynft.dynamics.M)\n",
    "\n",
    "    shifts = torch.concatenate(shifts)\n",
    "    Ms[0] = torch.concatenate(Ms[0]).detach()\n",
    "\n",
    "    plt.figure()\n",
    "\n",
    "    matrixMeanshape = torch.mean(torch.abs(Ms[0].detach()).to(\"cpu\"), axis=0)\n",
    "\n",
    "    plt.imshow(matrixMeanshape)\n",
    "\n",
    "    myfreqs = np.array(mydata.freqsel)\n",
    "    maxfreq = np.max(myfreqs)\n",
    "\n",
    "    targfreq, prods0 = ca.inner_prod(\n",
    "        Ms[0].to(shifts.device), shifts, maxfreq=maxfreq, bins=maxfreq + 1\n",
    "    )\n",
    "\n",
    "    plt.figure()\n",
    "    deltas = ca.deltafxn(targfreq, mydata.freqsel) * 2\n",
    "    plt.plot(\n",
    "        targfreq,\n",
    "        deltas,\n",
    "        alpha=0.2,\n",
    "        label=\"gt:\" + str(np.where(deltas > 1.0)[0]),\n",
    "    )\n",
    "    targfreq, prods0 = ca.inner_prod(\n",
    "        Ms[0].to(shifts.device), shifts, maxfreq=maxfreq, bins=maxfreq + 1\n",
    "    )\n",
    "    plt.plot(\n",
    "        targfreq,\n",
    "        prods0,\n",
    "        label=\"pred0:\" + str(np.where(prods0 > 1.0)[0]),\n",
    "        alpha=0.8,\n",
    "    )\n",
    "\n"
   ]
  },
  {
   "cell_type": "code",
   "execution_count": 28,
   "id": "aed335a4-8858-43b3-867f-8b93785bb012",
   "metadata": {},
   "outputs": [
    {
     "data": {
      "text/plain": [
       "torch.Size([320, 12, 12])"
      ]
     },
     "execution_count": 28,
     "metadata": {},
     "output_type": "execute_result"
    }
   ],
   "source": [
    "Ms[0].shape"
   ]
  },
  {
   "cell_type": "code",
   "execution_count": 51,
   "id": "e23e336e-b02c-4495-a7f2-ef083f418ccc",
   "metadata": {},
   "outputs": [],
   "source": [
    "mypermute=  [[0], [1,5,7], [2,6], [3,9], [4,11], [8 ,10]]"
   ]
  },
  {
   "cell_type": "code",
   "execution_count": 52,
   "id": "50d7f038-7f20-44f5-ab75-76a3d11722a0",
   "metadata": {},
   "outputs": [],
   "source": [
    "import itertools \n",
    "mysort =  list(itertools.chain(*mypermute))"
   ]
  },
  {
   "cell_type": "code",
   "execution_count": 53,
   "id": "af7955d1-e86e-425d-946d-db74424e9cfc",
   "metadata": {},
   "outputs": [],
   "source": [
    "myMs =  Ms[0][:, mysort, :][:, :, mysort]"
   ]
  },
  {
   "cell_type": "code",
   "execution_count": 54,
   "id": "edf6bcdc-1931-4031-af7a-789277b0cf90",
   "metadata": {},
   "outputs": [
    {
     "data": {
      "text/plain": [
       "<matplotlib.image.AxesImage at 0x7f1dbb4419d0>"
      ]
     },
     "execution_count": 54,
     "metadata": {},
     "output_type": "execute_result"
    },
    {
     "data": {
      "image/png": "[encoded data removed]",
      "text/plain": [
       "<Figure size 640x480 with 1 Axes>"
      ]
     },
     "metadata": {},
     "output_type": "display_data"
    }
   ],
   "source": [
    "plt.figure()\n",
    "\n",
    "matrixMeanshape = torch.mean(torch.abs(myMs.detach()).to(\"cpu\"), axis=0)\n",
    "\n",
    "plt.imshow(matrixMeanshape)"
   ]
  },
  {
   "cell_type": "code",
   "execution_count": 44,
   "id": "bae97b6e-5f9e-4228-a606-4b2700e49e8e",
   "metadata": {},
   "outputs": [
    {
     "data": {
      "text/plain": [
       "[0, 1, 5, 7, 2, 3, 6, 9, 4, 11, 8, 10]"
      ]
     },
     "execution_count": 44,
     "metadata": {},
     "output_type": "execute_result"
    }
   ],
   "source": [
    "mysort"
   ]
  },
  {
   "cell_type": "code",
   "execution_count": 60,
   "id": "0186beea-da1b-4a38-a4cc-f5dcda57a8c1",
   "metadata": {},
   "outputs": [
    {
     "name": "stderr",
     "output_type": "stream",
     "text": [
      "100%|██████████| 33/33 [00:01<00:00, 24.71it/s]\n",
      "100%|██████████| 33/33 [00:01<00:00, 28.23it/s]\n",
      "/tmp/ipykernel_508348/717317806.py:8: MatplotlibDeprecationWarning: Passing label as a length 3 sequence when plotting a single dataset is deprecated in Matplotlib 3.9 and will error in 3.11.  To keep the current behavior, cast the sequence to string before passing.\n",
      "  plt.plot(\n",
      "100%|██████████| 33/33 [00:01<00:00, 28.13it/s]\n",
      "/tmp/ipykernel_508348/717317806.py:8: MatplotlibDeprecationWarning: Passing label as a length 2 sequence when plotting a single dataset is deprecated in Matplotlib 3.9 and will error in 3.11.  To keep the current behavior, cast the sequence to string before passing.\n",
      "  plt.plot(\n",
      "100%|██████████| 33/33 [00:01<00:00, 28.12it/s]\n",
      "100%|██████████| 33/33 [00:01<00:00, 28.12it/s]\n",
      "100%|██████████| 33/33 [00:01<00:00, 28.12it/s]\n"
     ]
    },
    {
     "data": {
      "text/plain": [
       "<matplotlib.legend.Legend at 0x7f1dbb213e10>"
      ]
     },
     "execution_count": 60,
     "metadata": {},
     "output_type": "execute_result"
    },
    {
     "data": {
      "image/png": "[encoded data removed]",
      "text/plain": [
       "<Figure size 640x480 with 1 Axes>"
      ]
     },
     "metadata": {},
     "output_type": "display_data"
    }
   ],
   "source": [
    "plt.figure() \n",
    "for k in range(len(mypermute)):  \n",
    "    myslice = mypermute[k]\n",
    "    checkM =  Ms[0][:, myslice, :][:, :, myslice]\n",
    "    targfreq, prods0 = ca.inner_prod(\n",
    "        checkM.to(shifts.device), shifts, maxfreq=maxfreq, bins=maxfreq + 1\n",
    "    )\n",
    "    plt.plot(\n",
    "        targfreq,\n",
    "        prods0,\n",
    "        label=myslice,\n",
    "        alpha=0.8,\n",
    "    )    \n",
    "plt.legend()"
   ]
  },
  {
   "cell_type": "code",
   "execution_count": 61,
   "id": "5b18d13e-1236-41ce-99e4-d148857ecc7b",
   "metadata": {},
   "outputs": [
    {
     "data": {
      "text/plain": [
       "DFNFT(\n",
       "  (nftlayers): ModuleList(\n",
       "    (0): NFT(\n",
       "      (encoder): MM_MLPEncoder(\n",
       "        (activation_fxn): Tanh()\n",
       "        (net): Sequential(\n",
       "          (0): Linear(in_features=128, out_features=132, bias=True)\n",
       "          (1): MM_MaskFlatLinear()\n",
       "          (2): Tanh()\n",
       "          (3): MM_MaskFlatLinear()\n",
       "          (4): Tanh()\n",
       "          (5): MM_MaskFlatLinear()\n",
       "        )\n",
       "      )\n",
       "      (decoder): MM_MLPDecoder(\n",
       "        (activation_fxn): Tanh()\n",
       "        (net): Sequential(\n",
       "          (0): MM_MaskFlatLinear()\n",
       "          (1): Tanh()\n",
       "          (2): MM_MaskFlatLinear()\n",
       "          (3): Tanh()\n",
       "          (4): MM_MaskFlatLinear()\n",
       "          (5): Linear(in_features=132, out_features=128, bias=True)\n",
       "        )\n",
       "      )\n",
       "      (PLambdaNet): RotFeatureModule(\n",
       "        (rlnet): Sequential(\n",
       "          (0): RotatingLinear(\n",
       "            (fc): Linear(in_features=12, out_features=12, bias=False)\n",
       "            (norm): LayerNorm((12,), eps=1e-05, elementwise_affine=True)\n",
       "          )\n",
       "          (1): RotatingLinear(\n",
       "            (fc): Linear(in_features=12, out_features=12, bias=False)\n",
       "            (norm): LayerNorm((12,), eps=1e-05, elementwise_affine=True)\n",
       "          )\n",
       "          (2): RotatingLinear(\n",
       "            (fc): Linear(in_features=12, out_features=12, bias=False)\n",
       "            (norm): LayerNorm((12,), eps=1e-05, elementwise_affine=True)\n",
       "          )\n",
       "        )\n",
       "      )\n",
       "      (input_adapter): vanilla_input_adapter()\n",
       "    )\n",
       "  )\n",
       ")"
      ]
     },
     "execution_count": 61,
     "metadata": {},
     "output_type": "execute_result"
    }
   ],
   "source": [
    "mymodel"
   ]
  },
  {
   "cell_type": "code",
   "execution_count": null,
   "id": "07dc0c6a-9965-402a-82d3-8fc9bf940d54",
   "metadata": {},
   "outputs": [],
   "source": []
  }
 ],
 "metadata": {
  "kernelspec": {
   "display_name": "Python 3 (ipykernel)",
   "language": "python",
   "name": "python3"
  },
  "language_info": {
   "codemirror_mode": {
    "name": "ipython",
    "version": 3
   },
   "file_extension": ".py",
   "mimetype": "text/x-python",
   "name": "python",
   "nbconvert_exporter": "python",
   "pygments_lexer": "ipython3",
   "version": "3.11.9"
  }
 },
 "nbformat": 4,
 "nbformat_minor": 5
}
