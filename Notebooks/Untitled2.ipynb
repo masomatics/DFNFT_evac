{
 "cells": [
  {
   "cell_type": "code",
   "execution_count": 1,
   "id": "33ba9c1e-8092-4632-b919-059c79b60daf",
   "metadata": {},
   "outputs": [],
   "source": [
    "import sys\n",
    "import yaml\n",
    "sys.path.append('../')\n",
    "import os\n",
    "import torch\n",
    "from misc import yaml_util as yu\n",
    "sys.path.append('../dataset')\n",
    "sys.path.append('../module')\n",
    "from matplotlib import pyplot as plt\n",
    "from torch.utils.data import DataLoader\n",
    "from misc import character_analysis as ca\n"
   ]
  },
  {
   "cell_type": "code",
   "execution_count": 2,
   "id": "fccffae2-4611-4d31-9695-44998d091366",
   "metadata": {},
   "outputs": [
    {
     "name": "stdout",
     "output_type": "stream",
     "text": [
      "./dataset/oneDsignal_data.py\n",
      "[0, 1, 2, 4, 3, 5]\n",
      "0\n",
      "torch.Size([1, 6, 128])\n"
     ]
    },
    {
     "data": {
      "text/plain": [
       "DFNFT(\n",
       "  (owndecoders): ModuleList(\n",
       "    (0): MLPDecoder(\n",
       "      (activation_fxn): Tanh()\n",
       "      (net): Sequential(\n",
       "        (0): MaskFlatLinear()\n",
       "        (1): Linear(in_features=132, out_features=128, bias=True)\n",
       "      )\n",
       "    )\n",
       "  )\n",
       "  (nftlayers): ModuleList(\n",
       "    (0): NFT(\n",
       "      (encoder): MLPEncoder(\n",
       "        (activation_fxn): Tanh()\n",
       "        (net): Sequential(\n",
       "          (0): Linear(in_features=128, out_features=132, bias=True)\n",
       "          (1): MaskFlatLinear()\n",
       "        )\n",
       "      )\n",
       "      (decoder): MLPDecoder(\n",
       "        (activation_fxn): Tanh()\n",
       "        (net): Sequential(\n",
       "          (0): MaskFlatLinear()\n",
       "          (1): Linear(in_features=132, out_features=128, bias=True)\n",
       "        )\n",
       "      )\n",
       "    )\n",
       "  )\n",
       ")"
      ]
     },
     "execution_count": 2,
     "metadata": {},
     "output_type": "execute_result"
    }
   ],
   "source": [
    "datname = 'OneDsignal_OddEven_longhor_EvEnd'\n",
    "aaa = 'OneDsignal_OddEven_longhor_EvEnd_OneLayer_lasso_long_hor'\n",
    "\n",
    "modelname = 'OneLayer_lasso'\n",
    "\n",
    "trainname = 'long_hor'\n",
    "with open(f'''../cfg_data/{datname}.yaml''', 'rb') as f:\n",
    "    cfg_data = yaml.safe_load(f)\n",
    "\n",
    "cfg_data['args']['shift_label'] = True\n",
    "cfg_data['args']['nfreq'] = len(cfg_data['args']['freq_manual']) \n",
    "\n",
    "mydata = yu.load_component(cfg_data) \n",
    "\n",
    "myloader = DataLoader(mydata, batch_size=20,\n",
    "                        shuffle=False, \n",
    "                        num_workers=1,\n",
    "                        )\n",
    "\n",
    "\n",
    "seq, shift =  mydata[0]\n",
    "seq = seq[None, :]\n",
    "print(seq.shape)\n",
    "\n",
    "expname = f'''{datname}_{modelname}_{trainname}'''\n",
    "\n",
    "exppath = os.path.join(\"../dnftresult\", expname)\n",
    "if not os.path.exists(exppath):\n",
    "    raise NotImplementedError\n",
    "mymodelpath = f\"\"\"{exppath}/model.pt\"\"\"\n",
    "mymodel = torch.load(mymodelpath)\n",
    "mymodel = mymodel.to(0)\n",
    "mymodel"
   ]
  },
  {
   "cell_type": "code",
   "execution_count": null,
   "id": "726a05cd-e367-49ac-9891-6c22c951cdc1",
   "metadata": {},
   "outputs": [],
   "source": []
  }
 ],
 "metadata": {
  "kernelspec": {
   "display_name": "Python 3 (ipykernel)",
   "language": "python",
   "name": "python3"
  },
  "language_info": {
   "codemirror_mode": {
    "name": "ipython",
    "version": 3
   },
   "file_extension": ".py",
   "mimetype": "text/x-python",
   "name": "python",
   "nbconvert_exporter": "python",
   "pygments_lexer": "ipython3",
   "version": "3.11.9"
  }
 },
 "nbformat": 4,
 "nbformat_minor": 5
}
