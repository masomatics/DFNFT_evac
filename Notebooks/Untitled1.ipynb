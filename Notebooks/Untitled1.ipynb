{
 "cells": [
  {
   "cell_type": "code",
   "execution_count": 1,
   "id": "c7e71673-9fa3-42ec-8b7b-3bbb79885b1c",
   "metadata": {},
   "outputs": [],
   "source": [
    "import torch"
   ]
  },
  {
   "cell_type": "code",
   "execution_count": 2,
   "id": "b895caed-f980-4fab-a38d-d14249ea4282",
   "metadata": {},
   "outputs": [],
   "source": [
    "mask_params = torch.Tensor([1, 1, 2, 2,])"
   ]
  },
  {
   "cell_type": "code",
   "execution_count": 4,
   "id": "2694cf68-d09a-4490-9f53-7e4ec1e3c8d4",
   "metadata": {},
   "outputs": [
    {
     "name": "stdout",
     "output_type": "stream",
     "text": [
      "tensor([[0., 0., 1., 1.],\n",
      "        [0., 0., 1., 1.],\n",
      "        [1., 1., 0., 0.],\n",
      "        [1., 1., 0., 0.]])\n"
     ]
    }
   ],
   "source": [
    "diff = torch.abs(mask_params.unsqueeze(0) - mask_params.unsqueeze(1))\n",
    "print(diff)"
   ]
  },
  {
   "cell_type": "code",
   "execution_count": 9,
   "id": "8c62b97b-5490-4b2f-9282-8afb6af6de9e",
   "metadata": {},
   "outputs": [
    {
     "name": "stdout",
     "output_type": "stream",
     "text": [
      "tensor([[1.0000, 1.0000, 0.3679, 0.3679],\n",
      "        [1.0000, 1.0000, 0.3679, 0.3679],\n",
      "        [0.3679, 0.3679, 1.0000, 1.0000],\n",
      "        [0.3679, 0.3679, 1.0000, 1.0000]])\n"
     ]
    }
   ],
   "source": [
    "mask = torch.exp(-diff)\n",
    "print(mask)"
   ]
  },
  {
   "cell_type": "code",
   "execution_count": 10,
   "id": "e63830b9-8432-4e1c-a7f1-8cbbadf9a112",
   "metadata": {},
   "outputs": [],
   "source": [
    "from torch import Tensor\n",
    "def get_laplacian(matrix:Tensor)->Tensor:\n",
    "    assert matrix.ndim == 2 and matrix.shape[0] == matrix.shape[1]\n",
    "    return torch.diag(torch.sum(matrix, dim=1)) - matrix"
   ]
  },
  {
   "cell_type": "code",
   "execution_count": 12,
   "id": "d0ffea87-fdd9-4f7e-9dbf-63b5b18c8fe8",
   "metadata": {},
   "outputs": [
    {
     "data": {
      "text/plain": [
       "tensor([[ 1.7358, -1.0000, -0.3679, -0.3679],\n",
       "        [-1.0000,  1.7358, -0.3679, -0.3679],\n",
       "        [-0.3679, -0.3679,  1.7358, -1.0000],\n",
       "        [-0.3679, -0.3679, -1.0000,  1.7358]])"
      ]
     },
     "execution_count": 12,
     "metadata": {},
     "output_type": "execute_result"
    }
   ],
   "source": [
    "get_laplacian(mask)"
   ]
  },
  {
   "cell_type": "code",
   "execution_count": 13,
   "id": "3abcfb0e-206f-48db-9255-650628d4f0af",
   "metadata": {},
   "outputs": [
    {
     "data": {
      "text/plain": [
       "tensor([[2.7358, 0.0000, 0.0000, 0.0000],\n",
       "        [0.0000, 2.7358, 0.0000, 0.0000],\n",
       "        [0.0000, 0.0000, 2.7358, 0.0000],\n",
       "        [0.0000, 0.0000, 0.0000, 2.7358]])"
      ]
     },
     "execution_count": 13,
     "metadata": {},
     "output_type": "execute_result"
    }
   ],
   "source": [
    "get_laplacian(mask) + mask"
   ]
  },
  {
   "cell_type": "code",
   "execution_count": null,
   "id": "deecd199-ee3c-452e-9920-529cb9a817bb",
   "metadata": {},
   "outputs": [],
   "source": []
  }
 ],
 "metadata": {
  "kernelspec": {
   "display_name": "Python 3 (ipykernel)",
   "language": "python",
   "name": "python3"
  },
  "language_info": {
   "codemirror_mode": {
    "name": "ipython",
    "version": 3
   },
   "file_extension": ".py",
   "mimetype": "text/x-python",
   "name": "python",
   "nbconvert_exporter": "python",
   "pygments_lexer": "ipython3",
   "version": "3.11.9"
  }
 },
 "nbformat": 4,
 "nbformat_minor": 5
}
