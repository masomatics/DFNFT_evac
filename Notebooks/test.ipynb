{
 "cells": [
  {
   "cell_type": "code",
   "execution_count": 2,
   "id": "b2d8058a-e8c8-4da9-8213-11f90977ef89",
   "metadata": {},
   "outputs": [],
   "source": [
    "import torch"
   ]
  },
  {
   "cell_type": "code",
   "execution_count": 3,
   "id": "4747405e-d952-49aa-b61a-8ee3e30dea56",
   "metadata": {},
   "outputs": [],
   "source": [
    "B = 3\n",
    "D = 4\n",
    "M = torch.rand((B, D, D))"
   ]
  },
  {
   "cell_type": "code",
   "execution_count": 4,
   "id": "40d783ec-c0f2-48d9-a52a-15f7752bd4fa",
   "metadata": {},
   "outputs": [
    {
     "name": "stdout",
     "output_type": "stream",
     "text": [
      "tensor([[[0.8359, 0.8453, 0.4773, 0.9922],\n",
      "         [0.5976, 0.5614, 0.2343, 0.8495],\n",
      "         [0.9159, 0.2730, 0.5825, 0.6727],\n",
      "         [0.4473, 0.0311, 0.4938, 0.4559]],\n",
      "\n",
      "        [[0.2886, 0.6005, 0.5938, 0.5624],\n",
      "         [0.3884, 0.9211, 0.3994, 0.8212],\n",
      "         [0.5156, 0.5738, 0.2689, 0.0422],\n",
      "         [0.2412, 0.7686, 0.3943, 0.1545]],\n",
      "\n",
      "        [[0.9434, 0.3097, 0.0745, 0.0143],\n",
      "         [0.1518, 0.7089, 0.1221, 0.5434],\n",
      "         [0.9328, 0.2329, 0.3813, 0.3170],\n",
      "         [0.6582, 0.1510, 0.6540, 0.3969]]])\n"
     ]
    }
   ],
   "source": [
    "print(M)"
   ]
  },
  {
   "cell_type": "code",
   "execution_count": 6,
   "id": "bd3479f0-fd11-4d2c-8a15-aab8f0658531",
   "metadata": {},
   "outputs": [
    {
     "name": "stdout",
     "output_type": "stream",
     "text": [
      "tensor([[1., 0., 0., 0.],\n",
      "        [0., 1., 0., 0.],\n",
      "        [0., 0., 1., 0.],\n",
      "        [0., 0., 0., 1.]])\n"
     ]
    }
   ],
   "source": [
    "I = torch.eye(D)\n",
    "print(I)"
   ]
  },
  {
   "cell_type": "code",
   "execution_count": 7,
   "id": "c50c41d0-e399-46f8-937c-aab60e7af512",
   "metadata": {},
   "outputs": [
    {
     "name": "stdout",
     "output_type": "stream",
     "text": [
      "tensor([[[-0.1641,  0.8453,  0.4773,  0.9922],\n",
      "         [ 0.5976, -0.4386,  0.2343,  0.8495],\n",
      "         [ 0.9159,  0.2730, -0.4175,  0.6727],\n",
      "         [ 0.4473,  0.0311,  0.4938, -0.5441]],\n",
      "\n",
      "        [[-0.7114,  0.6005,  0.5938,  0.5624],\n",
      "         [ 0.3884, -0.0789,  0.3994,  0.8212],\n",
      "         [ 0.5156,  0.5738, -0.7311,  0.0422],\n",
      "         [ 0.2412,  0.7686,  0.3943, -0.8455]],\n",
      "\n",
      "        [[-0.0566,  0.3097,  0.0745,  0.0143],\n",
      "         [ 0.1518, -0.2911,  0.1221,  0.5434],\n",
      "         [ 0.9328,  0.2329, -0.6187,  0.3170],\n",
      "         [ 0.6582,  0.1510,  0.6540, -0.6031]]])\n"
     ]
    }
   ],
   "source": [
    "print(M - I)"
   ]
  },
  {
   "cell_type": "code",
   "execution_count": 8,
   "id": "2a7f2813-54cd-4865-8ecc-8c1ced1cab93",
   "metadata": {},
   "outputs": [
    {
     "data": {
      "text/plain": [
       "tensor([5.2656, 3.5347, 2.5922])"
      ]
     },
     "execution_count": 8,
     "metadata": {},
     "output_type": "execute_result"
    }
   ],
   "source": [
    "torch.sum(M - I, dim=(1, 2))"
   ]
  },
  {
   "cell_type": "code",
   "execution_count": 13,
   "id": "c7812b2e-8a4b-44b8-8c2b-beac49dc296f",
   "metadata": {},
   "outputs": [],
   "source": [
    "flag = torch.sum(M - I, dim=(1, 2)) > 3"
   ]
  },
  {
   "cell_type": "code",
   "execution_count": 15,
   "id": "e0a864d1-f0c8-4f05-8ae1-fc18dfc73945",
   "metadata": {},
   "outputs": [
    {
     "data": {
      "text/plain": [
       "tensor(0.6667)"
      ]
     },
     "execution_count": 15,
     "metadata": {},
     "output_type": "execute_result"
    }
   ],
   "source": [
    "torch.mean(flag.float())"
   ]
  },
  {
   "cell_type": "code",
   "execution_count": 9,
   "id": "881c3f5e-5dab-464c-a26c-3e388209ea09",
   "metadata": {},
   "outputs": [
    {
     "data": {
      "text/plain": [
       "tensor(5.2656)"
      ]
     },
     "execution_count": 9,
     "metadata": {},
     "output_type": "execute_result"
    }
   ],
   "source": [
    "torch.sum(M[0] - I)"
   ]
  },
  {
   "cell_type": "code",
   "execution_count": null,
   "id": "2b618645-fa58-4525-843e-14b98b214b32",
   "metadata": {},
   "outputs": [],
   "source": []
  }
 ],
 "metadata": {
  "kernelspec": {
   "display_name": "Python 3 (ipykernel)",
   "language": "python",
   "name": "python3"
  },
  "language_info": {
   "codemirror_mode": {
    "name": "ipython",
    "version": 3
   },
   "file_extension": ".py",
   "mimetype": "text/x-python",
   "name": "python",
   "nbconvert_exporter": "python",
   "pygments_lexer": "ipython3",
   "version": "3.11.9"
  }
 },
 "nbformat": 4,
 "nbformat_minor": 5
}
