{
 "cells": [
  {
   "cell_type": "code",
   "execution_count": 17,
   "id": "2b618645-fa58-4525-843e-14b98b214b32",
   "metadata": {},
   "outputs": [],
   "source": [
    "import sys\n",
    "import yaml\n",
    "sys.path.append('../')\n",
    "import os\n",
    "import torch\n",
    "from misc import yaml_util as yu\n",
    "sys.path.append('../dataset')\n",
    "sys.path.append('../module')\n",
    "from matplotlib import pyplot as plt\n",
    "from torch.utils.data import DataLoader\n",
    "from misc import character_analysis as ca\n"
   ]
  },
  {
   "cell_type": "code",
   "execution_count": 18,
   "id": "eb31e481-9cbe-42e7-9ac9-ce4b15b4a44f",
   "metadata": {},
   "outputs": [
    {
     "name": "stdout",
     "output_type": "stream",
     "text": [
      "./dataset/cyclic_group_signal.py\n"
     ]
    },
    {
     "data": {
      "text/plain": [
       "SubgroupNFT(\n",
       "  (encoder): MLPEncoder(\n",
       "    (activation_fxn): Tanh()\n",
       "    (net): Sequential(\n",
       "      (0): MaskFlatLinear()\n",
       "      (1): Tanh()\n",
       "      (2): MaskFlatLinear()\n",
       "      (3): Tanh()\n",
       "      (4): MaskFlatLinear()\n",
       "    )\n",
       "  )\n",
       "  (decoder): MLPDecoder(\n",
       "    (activation_fxn): Tanh()\n",
       "    (net): Sequential(\n",
       "      (0): MaskFlatLinear()\n",
       "      (1): Tanh()\n",
       "      (2): MaskFlatLinear()\n",
       "      (3): Tanh()\n",
       "      (4): MaskFlatLinear()\n",
       "    )\n",
       "  )\n",
       ")"
      ]
     },
     "execution_count": 18,
     "metadata": {},
     "output_type": "execute_result"
    }
   ],
   "source": [
    "data_name = \"one_dim_cyclic\"\n",
    "model_name = \"subgroup_detection\"\n",
    "train_name = \"baseline\"\n",
    "with open(f\"\"\"../cfg_data/{data_name}.yaml\"\"\", \"rb\") as f:\n",
    "    cfg_data = yaml.safe_load(f)\n",
    "\n",
    "data = yu.load_component(cfg_data) \n",
    "\n",
    "loader = DataLoader(data, batch_size=32,\n",
    "                        shuffle=False, \n",
    "                        num_workers=1,\n",
    "                        )\n",
    "\n",
    "exp_name = f\"{data_name}_{model_name}_{train_name}\"\n",
    "\n",
    "exppath = os.path.join(\"../dnftresult\", exp_name)\n",
    "if not os.path.exists(exppath):\n",
    "    raise ValueError\n",
    "model_path = f\"{exppath}/model.pt\"\n",
    "model = torch.load(model_path)\n",
    "model = model.to(0)\n",
    "model"
   ]
  },
  {
   "cell_type": "code",
   "execution_count": 40,
   "id": "efb068b4-b61e-4c32-8535-52fad7667e2f",
   "metadata": {},
   "outputs": [],
   "source": [
    "import sys\n",
    "import random\n",
    "from itertools import cycle\n",
    "from einops import repeat\n",
    "\n",
    "sys.path.append(\"../\")\n",
    "import torch\n",
    "from torch.utils.data import DataLoader\n",
    "import yaml\n",
    "from torch.utils.tensorboard import SummaryWriter\n",
    "from tqdm import tqdm\n",
    "import copy\n",
    "import numpy as np\n",
    "\n",
    "from misc import yaml_util as yu\n",
    "from module.subgroup_nft import SubgroupNFT\n",
    "from tqdm import tqdm\n",
    "\n",
    "from misc.laplacian import tracenorm_of_normalized_laplacian, make_identity_like\n",
    "\n",
    "from torch import nn, Tensor\n",
    "import matplotlib.pyplot as plt\n",
    "\n",
    "\n",
    "class SubgroupDetector:\n",
    "    def __init__(self, nft_model, data, writer, device) -> None:\n",
    "        self.data = data\n",
    "        self.loader = DataLoader(self.data, batch_size=64, shuffle=False, num_workers=1)\n",
    "        self.writer = writer\n",
    "        self.device = device\n",
    "        self.nft_model = nft_model.eval().to(dtype=torch.float64).to(device=self.device)\n",
    "\n",
    "        self.Ms:Tensor|None = None\n",
    "        self.change_of_basis = None\n",
    "\n",
    "    def init_rep_matrices(self) -> None:\n",
    "        M_list = []\n",
    "        for signal, _ in self.loader:\n",
    "            self.nft_model(signal.to(device=self.device))  # compute M\n",
    "            M_list.append(self.nft_model.dynamics.M.clone().detach())\n",
    "        self.Ms = torch.cat(M_list)\n",
    "        assert self.Ms.shape[0] == self.data.num_data\n",
    "\n",
    "    def simultaneous_diagonalization(self) -> None:\n",
    "        \"\"\"\n",
    "        Find a (complex valued) matrix P such that the matrices {PM(g)P^{-1}} become block matrices.\n",
    "        \"\"\"\n",
    "        self.change_of_basis = optimize_bd_cob(mats=self.Ms)\n",
    "       \n",
    "\n"
   ]
  },
  {
   "cell_type": "code",
   "execution_count": 41,
   "id": "8c23912d-03f4-483a-8473-a0236717516c",
   "metadata": {},
   "outputs": [],
   "source": [
    "subgroup_detector = SubgroupDetector(\n",
    "    nft_model=model,\n",
    "    data=data,\n",
    "    writer=SummaryWriter(\"./dnftresult/vanillaX\"),\n",
    "    device=torch.device(0),\n",
    ")"
   ]
  },
  {
   "cell_type": "code",
   "execution_count": 46,
   "id": "e4e76f2a-0e3b-4254-890b-b3c5fa332715",
   "metadata": {},
   "outputs": [],
   "source": [
    "subgroup_detector.init_rep_matrices()"
   ]
  },
  {
   "cell_type": "code",
   "execution_count": 47,
   "id": "54c836f3-ec47-4e82-9317-74a28548527b",
   "metadata": {},
   "outputs": [],
   "source": [
    "import torch\n",
    "import torch.nn as nn\n",
    "from einops import repeat\n",
    "from misc.laplacian import tracenorm_of_normalized_laplacian, make_identity_like\n",
    "from tqdm import tqdm\n",
    "import numpy as np\n",
    "\n",
    "\n",
    "'''\n",
    "Automated Block Diagonalization (Maehara et al.)\n",
    "This code is the python rendition of the algorithm publicized at\n",
    "http://www.misojiro.t.u-tokyo.ac.jp/~maehara/commdec/\n",
    "\n",
    "'''\n",
    "\n",
    "from scipy.sparse.linalg import eigs\n",
    "from scipy.sparse import csc_matrix\n",
    "\n",
    "def comm(A, X):\n",
    "    return A @ X - X @ A\n",
    "\n",
    "def multiply(A, v):\n",
    "    n = A[0].shape[1]\n",
    "    N = len(A)\n",
    "    X = np.reshape(v, (n, n))\n",
    "    W = np.zeros((n, n))\n",
    "    for k in range(N):\n",
    "        W += comm(A[k].T, comm(A[k], X)) + comm(A[k], comm(A[k].T, X))\n",
    "    W += np.eye(n) * np.trace(X)\n",
    "    return W.reshape(n*n)\n",
    "\n",
    "\n",
    "'''\n",
    "Simultaneously Block Diagonalizing N matrices of shape n x n.\n",
    "A :the matrix of shape  N x n x n. \n",
    "'''\n",
    "def commdec(A, printSW=1, pickup=10, krylovth=1e-8):\n",
    "    N = len(A)\n",
    "    n = A[0].shape[1]\n",
    "\n",
    "    # Settings\n",
    "    krylovth = krylovth\n",
    "    krylovit = n**2\n",
    "    maxdim = n\n",
    "    pickup = pickup\n",
    "\n",
    "    v = [np.random.randn(n**2)]\n",
    "    v[0] /= np.sqrt(v[0] @ v[0])\n",
    "    H = csc_matrix((n**2, n**2), dtype=float)\n",
    "\n",
    "    for j in tqdm(range(krylovit)):\n",
    "        w = multiply(A, v[j])\n",
    "        for i in range(max(0, j-1), j+1):\n",
    "            H[i, j] = v[i] @ w\n",
    "            w -= H[i, j] * v[i]\n",
    "        a = np.sqrt(w @ w)\n",
    "\n",
    "        if (a < krylovth) or (j == krylovit-1):\n",
    "            break\n",
    "\n",
    "        H[j+1, j] = a\n",
    "        v.append(w / a)\n",
    "\n",
    "    H = H[:j+1, :j+1]\n",
    "    H = (H + H.T) / 2\n",
    "    Q = np.column_stack(v)\n",
    "\n",
    "    d, Y= eigs(H, k=maxdim, which='SM')\n",
    "    #print(Y.shape, d.shape)\n",
    "\n",
    "    Y = Y.reshape([Y.shape[0], -1])\n",
    "    d = np.sqrt(np.diag(d)/(4*n))\n",
    "    e = d[pickup-1]\n",
    "\n",
    "    X = np.zeros([n**2,1]).astype(np.complex128)\n",
    "\n",
    "    for i in range(pickup):\n",
    "        #print(X.shape, Y[:, [0]].shape)\n",
    "        X = X + Y[:,[i]]\n",
    "    X = np.reshape(Q @ X, (n, n))\n",
    "    D, P = np.linalg.eig(X + X.T)\n",
    "\n",
    "    if printSW > 0:\n",
    "        print(f\"\"\"err = {e}\"\"\")\n",
    "    if printSW > 1:\n",
    "        print('small eigs (normalized):')\n",
    "        len_d = min(3+pickup, d.shape[0])\n",
    "        for i in range(len_d):\n",
    "            print(f'{i+1}: err = {d[i]:.3e}')\n",
    "\n",
    "\n",
    "\n",
    "    return P, e\n",
    "\n"
   ]
  },
  {
   "cell_type": "code",
   "execution_count": 49,
   "id": "c708ef05-1179-4899-906d-91821ca74507",
   "metadata": {},
   "outputs": [
    {
     "name": "stderr",
     "output_type": "stream",
     "text": [
      "  0%|          | 0/100 [00:00<?, ?it/s]/usr/local/lib/python3.11/dist-packages/scipy/sparse/_index.py:108: SparseEfficiencyWarning: Changing the sparsity structure of a csc_matrix is expensive. lil and dok are more efficient.\n",
      "  self._set_intXint(row, col, x.flat[0])\n",
      " 99%|█████████▉| 99/100 [00:46<00:00,  2.12it/s]"
     ]
    },
    {
     "name": "stdout",
     "output_type": "stream",
     "text": [
      "err = [0.        +0.j 0.        +0.j 0.        +0.j 0.        +0.j\n",
      " 0.        +0.j 0.        +0.j 0.        +0.j 0.        +0.j\n",
      " 0.        +0.j 6.45762927+0.j]\n"
     ]
    },
    {
     "name": "stderr",
     "output_type": "stream",
     "text": [
      "\n"
     ]
    }
   ],
   "source": [
    "P, e = commdec(subgroup_detector.Ms.detach().to(\"cpu\").numpy())"
   ]
  },
  {
   "cell_type": "code",
   "execution_count": 50,
   "id": "8f366519-21cc-4c1b-8eef-7a195a83c5e7",
   "metadata": {},
   "outputs": [
    {
     "name": "stdout",
     "output_type": "stream",
     "text": [
      "[0.        +0.j 0.        +0.j 0.        +0.j 0.        +0.j\n",
      " 0.        +0.j 0.        +0.j 0.        +0.j 0.        +0.j\n",
      " 0.        +0.j 6.45762927+0.j]\n"
     ]
    }
   ],
   "source": [
    "print(e)"
   ]
  },
  {
   "cell_type": "code",
   "execution_count": 64,
   "id": "9710260b-feb7-4fc6-b0be-8bc0bfbe88ea",
   "metadata": {},
   "outputs": [
    {
     "data": {
      "text/plain": [
       "torch.Size([30000, 10, 10])"
      ]
     },
     "execution_count": 64,
     "metadata": {},
     "output_type": "execute_result"
    }
   ],
   "source": [
    "subgroup_detector.Ms.shape"
   ]
  },
  {
   "cell_type": "code",
   "execution_count": 67,
   "id": "cdee0396-c5d0-477a-8a22-2118a6177a15",
   "metadata": {},
   "outputs": [
    {
     "name": "stdout",
     "output_type": "stream",
     "text": [
      "(30000, 10, 10)\n"
     ]
    }
   ],
   "source": [
    "Ms_np = subgroup_detector.Ms.detach().to(\"cpu\").numpy()\n",
    "print(Ms_np.shape)"
   ]
  },
  {
   "cell_type": "code",
   "execution_count": 57,
   "id": "b7924d62-0590-46ed-abe0-b3b80784adfb",
   "metadata": {},
   "outputs": [
    {
     "data": {
      "text/plain": [
       "(10, 10)"
      ]
     },
     "execution_count": 57,
     "metadata": {},
     "output_type": "execute_result"
    }
   ],
   "source": []
  },
  {
   "cell_type": "code",
   "execution_count": 68,
   "id": "59bb04ba-02d5-49a8-bd0e-bfb087c3ec2e",
   "metadata": {},
   "outputs": [],
   "source": [
    "from numpy.linalg import inv"
   ]
  },
  {
   "cell_type": "code",
   "execution_count": 76,
   "id": "a75d22ad-3f98-475b-8c20-17c3b76dd1be",
   "metadata": {},
   "outputs": [],
   "source": [
    "block_Ms = np.abs(inv(P) @ Ms_np @ P)"
   ]
  },
  {
   "cell_type": "code",
   "execution_count": 77,
   "id": "6c06a9a7-362b-47a2-873d-b732650f2c49",
   "metadata": {},
   "outputs": [
    {
     "data": {
      "text/plain": [
       "(30000, 10, 10)"
      ]
     },
     "execution_count": 77,
     "metadata": {},
     "output_type": "execute_result"
    }
   ],
   "source": [
    "block_Ms.shape"
   ]
  },
  {
   "cell_type": "code",
   "execution_count": 78,
   "id": "ee88f69c-87f8-45bc-9bec-b0ad8eaaebe4",
   "metadata": {},
   "outputs": [
    {
     "name": "stdout",
     "output_type": "stream",
     "text": [
      "[[9.81977148e-01 2.77797201e-01 4.72725876e-03 1.73695089e-03\n",
      "  3.96495079e-02 4.67260415e-02 4.78720024e-02 6.91094543e-02\n",
      "  7.31632899e-02 2.98229908e-02]\n",
      " [2.94947213e-01 9.45896631e-01 5.68798454e-02 1.53299987e-02\n",
      "  1.18379397e-02 2.92770652e-02 3.01238840e-02 2.40866090e-02\n",
      "  7.07884090e-02 2.36133773e-02]\n",
      " [5.39663539e-02 8.81770868e-03 8.33349446e-01 5.45067555e-01\n",
      "  5.00052502e-02 3.18732592e-02 7.55010386e-03 7.31238040e-03\n",
      "  2.45876096e-02 4.10517996e-02]\n",
      " [1.12366085e-02 4.98331738e-02 5.44829858e-01 8.43996623e-01\n",
      "  3.49781072e-02 8.07104106e-02 4.53255015e-02 3.85854435e-02\n",
      "  5.24614344e-02 2.98479528e-02]\n",
      " [4.33542779e-02 3.21901794e-02 3.52074333e-02 2.78199312e-03\n",
      "  2.15812865e-01 9.76162689e-01 2.75439904e-02 2.49422840e-02\n",
      "  6.13695461e-02 4.43291427e-02]\n",
      " [4.27895308e-02 2.11081354e-02 1.52201059e-02 2.42331338e-02\n",
      "  1.00645822e+00 7.27107344e-02 7.42641230e-02 1.85059864e-02\n",
      "  1.79255353e-03 2.80208412e-02]\n",
      " [3.44717906e-02 6.78423142e-04 5.04323185e-02 1.57239783e-02\n",
      "  2.24470849e-04 3.43543525e-02 6.42510959e-01 7.35255025e-01\n",
      "  9.79856602e-02 4.05972258e-02]\n",
      " [1.46074541e-02 3.18083176e-02 1.57742515e-02 5.73636470e-02\n",
      "  6.81726369e-02 2.27338182e-02 7.66536803e-01 6.55212875e-01\n",
      "  2.93544724e-02 5.12681723e-02]\n",
      " [3.94570569e-03 4.69291829e-02 1.50460548e-02 7.28606507e-02\n",
      "  7.34147571e-03 7.63304459e-02 9.48195402e-03 5.89749494e-02\n",
      "  3.83960604e-01 9.33731651e-01]\n",
      " [4.16312671e-02 6.33887093e-02 5.61090307e-02 2.48323887e-03\n",
      "  1.38218677e-01 7.82866602e-03 1.26630205e-01 1.04052384e-01\n",
      "  8.84410808e-01 4.34546139e-01]]\n"
     ]
    },
    {
     "data": {
      "image/png": "[encoded data removed]",
      "text/plain": [
       "<Figure size 480x480 with 1 Axes>"
      ]
     },
     "metadata": {},
     "output_type": "display_data"
    },
    {
     "name": "stdout",
     "output_type": "stream",
     "text": [
      "[[1.42521948e-01 9.77140953e-01 1.27932018e-02 7.53410085e-02\n",
      "  7.66215199e-02 7.01697290e-03 1.97488467e-02 2.85852462e-02\n",
      "  2.79805255e-02 2.77450083e-02]\n",
      " [9.89171295e-01 1.17777531e-01 7.08784135e-03 7.99135889e-02\n",
      "  3.21022057e-02 1.14692271e-01 8.15316098e-03 9.54664294e-03\n",
      "  6.42386647e-02 1.83376072e-02]\n",
      " [5.29167049e-02 1.19419793e-01 9.52772281e-01 2.96544822e-01\n",
      "  2.01835925e-02 4.78427820e-02 7.55123259e-03 7.27739092e-03\n",
      "  1.80236318e-02 6.97672936e-03]\n",
      " [9.74914888e-03 1.48116046e-01 2.78466915e-01 9.60421944e-01\n",
      "  1.00503609e-01 3.83202497e-02 1.71934052e-03 4.17141482e-02\n",
      "  4.71751990e-03 9.91035310e-03]\n",
      " [5.61768504e-03 1.70522917e-02 3.05161717e-02 4.34410786e-02\n",
      "  5.91905632e-01 6.87516322e-01 2.90983493e-02 9.57053752e-04\n",
      "  3.02458971e-02 6.92385086e-02]\n",
      " [9.28147661e-02 3.25160947e-02 5.63461216e-03 4.94395098e-03\n",
      "  7.67739746e-01 6.91835194e-01 8.66974274e-02 3.89738338e-02\n",
      "  1.57068769e-01 3.98401745e-02]\n",
      " [4.87652376e-02 7.81604502e-02 8.45973545e-03 5.01471287e-02\n",
      "  4.39182868e-02 2.39010990e-02 4.58334421e-01 8.82295584e-01\n",
      "  7.95930832e-02 1.02804647e-02]\n",
      " [8.86926037e-02 3.53143602e-02 1.85094544e-02 4.06613989e-03\n",
      "  1.88721031e-02 7.29368778e-02 9.30797565e-01 3.67244946e-01\n",
      "  1.29925770e-02 4.35196109e-02]\n",
      " [1.47490912e-02 8.62504723e-02 4.64385915e-03 6.90945288e-03\n",
      "  1.15837870e-01 5.79808052e-02 5.38528392e-03 3.69640209e-02\n",
      "  8.30684982e-01 5.65005763e-01]\n",
      " [1.52982774e-02 8.58959908e-02 1.16791858e-02 7.92727776e-04\n",
      "  3.66174653e-02 1.46791251e-01 6.01837051e-02 1.95640626e-02\n",
      "  5.21659732e-01 8.50059129e-01]]\n"
     ]
    },
    {
     "data": {
      "image/png": "[encoded data removed]",
      "text/plain": [
       "<Figure size 480x480 with 1 Axes>"
      ]
     },
     "metadata": {},
     "output_type": "display_data"
    },
    {
     "name": "stdout",
     "output_type": "stream",
     "text": [
      "[[6.01330523e-01 7.30017294e-01 3.13504177e-02 6.43326956e-02\n",
      "  1.53810893e-02 2.38263393e-02 8.17824544e-03 1.51805905e-02\n",
      "  1.95250133e-02 2.25999801e-02]\n",
      " [7.80593861e-01 7.06623584e-01 5.68680176e-02 1.35477655e-02\n",
      "  5.97207193e-03 5.68453935e-03 4.22829483e-02 6.49400586e-02\n",
      "  1.12288064e-02 1.03573036e-02]\n",
      " [4.59521792e-02 1.09063005e-01 1.45108697e-01 1.00407907e+00\n",
      "  6.51804498e-02 3.26806211e-02 8.68040448e-03 4.52666810e-02\n",
      "  3.40338459e-02 2.06409668e-02]\n",
      " [4.16171903e-02 3.74562200e-02 9.46295453e-01 1.29090298e-01\n",
      "  2.47266005e-02 5.60671428e-02 6.41495321e-04 3.90867634e-02\n",
      "  4.22386855e-02 1.15478322e-02]\n",
      " [1.43938915e-02 1.49576078e-02 2.28148908e-03 7.50176196e-02\n",
      "  3.86445915e-01 8.92446034e-01 1.08169473e-01 2.53328970e-02\n",
      "  1.04943309e-02 2.92099481e-02]\n",
      " [1.58177864e-02 1.52848654e-02 3.94872180e-02 1.06099018e-02\n",
      "  9.12386642e-01 4.50381251e-01 7.88927554e-03 5.86088818e-02\n",
      "  1.22059380e-01 4.37041314e-02]\n",
      " [1.26889070e-02 2.25262934e-02 5.68208455e-02 2.49480706e-02\n",
      "  1.80818284e-02 2.91642898e-02 8.51185416e-01 4.92856851e-01\n",
      "  6.65161759e-02 5.27144781e-02]\n",
      " [5.34652854e-02 1.01504133e-02 1.77235653e-02 4.61699271e-02\n",
      "  1.88481705e-02 1.61806445e-02 5.67107397e-01 8.20544980e-01\n",
      "  5.10531035e-02 1.82972875e-02]\n",
      " [4.60483595e-02 8.00408210e-03 3.59118930e-02 5.22680799e-02\n",
      "  7.29126747e-02 6.74023943e-02 1.54806472e-02 1.02887630e-01\n",
      "  9.66301752e-01 2.84599241e-01]\n",
      " [2.71567084e-02 8.38624088e-03 1.49459740e-02 2.40326667e-02\n",
      "  3.27295682e-02 3.83923856e-02 1.33637070e-01 2.24099597e-02\n",
      "  2.78188373e-01 9.51211035e-01]]\n"
     ]
    },
    {
     "data": {
      "image/png": "[encoded data removed]",
      "text/plain": [
       "<Figure size 480x480 with 1 Axes>"
      ]
     },
     "metadata": {},
     "output_type": "display_data"
    },
    {
     "name": "stdout",
     "output_type": "stream",
     "text": [
      "[[3.39492968e-01 8.24639889e-01 1.36673386e-02 5.87366535e-02\n",
      "  7.17518353e-04 1.98368763e-02 3.16064948e-02 1.38502484e-02\n",
      "  6.40178581e-04 4.26271657e-02]\n",
      " [9.35338838e-01 4.62951662e-01 2.27394784e-02 1.02147358e-01\n",
      "  3.43341572e-02 1.29646541e-02 3.49728178e-02 1.13407498e-02\n",
      "  1.32214997e-02 4.96015373e-02]\n",
      " [6.80535098e-03 9.01340026e-02 6.69219409e-01 7.72033707e-01\n",
      "  1.90105166e-02 8.49879193e-03 3.31251933e-03 1.46964726e-02\n",
      "  2.36533685e-02 5.43740119e-02]\n",
      " [2.48746135e-02 2.33774038e-01 7.65758923e-01 6.44464696e-01\n",
      "  9.65469546e-02 7.30241885e-03 9.41917968e-03 1.19383485e-02\n",
      "  9.88148105e-03 5.19535548e-02]\n",
      " [1.11257038e-01 5.18565485e-02 3.42744744e-02 5.63032218e-02\n",
      "  8.69252890e-01 5.37733263e-01 9.79123419e-02 2.87097864e-02\n",
      "  1.02575025e-01 7.72775794e-02]\n",
      " [4.49590371e-02 8.71965469e-02 6.47437545e-04 3.08956136e-02\n",
      "  5.60018386e-01 8.25716826e-01 3.49694545e-02 3.44286061e-02\n",
      "  3.09520781e-02 1.41938620e-01]\n",
      " [4.39239684e-03 5.61428011e-02 2.35084318e-02 1.53617298e-03\n",
      "  6.98764813e-02 3.20548377e-02 9.85749652e-01 2.85064894e-01\n",
      "  5.20842210e-02 9.36466746e-02]\n",
      " [1.13537453e-01 5.81105465e-02 1.16385853e-02 2.12861933e-02\n",
      "  2.68922342e-03 5.63144805e-04 2.82314297e-01 9.53422480e-01\n",
      "  8.29693757e-04 8.35883447e-04]\n",
      " [3.55171339e-02 9.46534749e-02 1.11692558e-02 5.04562183e-02\n",
      "  7.29435026e-02 3.07021783e-03 1.25028789e-02 9.71747495e-03\n",
      "  1.45816688e-01 9.91473000e-01]\n",
      " [3.70555006e-02 6.60355240e-02 3.38423837e-02 1.18555922e-02\n",
      "  1.22508306e-02 2.93747627e-02 5.59735860e-02 5.89714887e-02\n",
      "  9.74134017e-01 1.22943353e-01]]\n"
     ]
    },
    {
     "data": {
      "image/png": "[encoded data removed]",
      "text/plain": [
       "<Figure size 480x480 with 1 Axes>"
      ]
     },
     "metadata": {},
     "output_type": "display_data"
    },
    {
     "name": "stdout",
     "output_type": "stream",
     "text": [
      "[[1.72512358e-01 9.90043191e-01 8.78952036e-03 8.61819095e-02\n",
      "  3.17114921e-02 1.32367625e-02 2.13589750e-02 2.57696534e-03\n",
      "  2.99339552e-02 2.29509948e-02]\n",
      " [9.82953309e-01 1.20671416e-01 4.45516601e-02 8.41096412e-02\n",
      "  4.23407684e-03 1.07018518e-02 8.76017393e-03 1.20381023e-02\n",
      "  3.24873123e-02 5.06083990e-02]\n",
      " [1.20977583e-01 2.41318060e-02 9.54259820e-01 2.89920292e-01\n",
      "  5.04992507e-02 1.45578211e-02 7.00738641e-03 5.12961775e-03\n",
      "  1.67998668e-02 7.29044299e-02]\n",
      " [8.97130319e-02 2.98279857e-02 2.75584065e-01 9.60924117e-01\n",
      "  8.52982759e-02 2.39945849e-02 3.21774910e-02 9.75552553e-04\n",
      "  1.30786022e-02 3.36445764e-02]\n",
      " [5.11236154e-02 1.48427574e-02 8.52704669e-03 6.38517879e-02\n",
      "  6.86489869e-01 7.49119840e-01 6.89999616e-02 3.15026476e-02\n",
      "  1.10786855e-01 4.98944427e-02]\n",
      " [1.50340338e-02 5.94017172e-03 1.15392998e-02 4.99700973e-02\n",
      "  7.69008911e-01 6.15252887e-01 2.94487475e-05 2.18986936e-02\n",
      "  9.34082925e-03 4.79359054e-02]\n",
      " [5.12072849e-02 5.91797489e-02 1.96003603e-03 3.03753976e-02\n",
      "  1.56244265e-02 2.47195224e-02 3.84310240e-01 9.13311857e-01\n",
      "  6.54467743e-02 7.17204063e-02]\n",
      " [2.54263753e-02 3.40225328e-02 1.48899355e-02 3.88966447e-02\n",
      "  2.63938601e-02 1.35565440e-02 9.11649488e-01 4.54933531e-01\n",
      "  3.77909637e-02 3.58819223e-02]\n",
      " [7.55560849e-03 5.03698619e-02 1.94509251e-02 1.07218406e-02\n",
      "  1.24993519e-01 1.47221969e-02 5.34592735e-03 5.71680054e-02\n",
      "  8.30795798e-01 5.61128874e-01]\n",
      " [2.23410566e-02 1.81303322e-02 1.99218352e-02 7.01034722e-03\n",
      "  4.58503527e-02 1.79552298e-02 8.75882218e-05 5.08753663e-02\n",
      "  4.75891456e-01 8.51821772e-01]]\n"
     ]
    },
    {
     "data": {
      "image/png": "[encoded data removed]",
      "text/plain": [
       "<Figure size 480x480 with 1 Axes>"
      ]
     },
     "metadata": {},
     "output_type": "display_data"
    },
    {
     "name": "stdout",
     "output_type": "stream",
     "text": [
      "[[1.00000000e+00 6.42583238e-17 1.48022358e-17 1.35022952e-16\n",
      "  2.52259058e-18 3.67513180e-17 9.56933542e-17 5.36428009e-17\n",
      "  1.53963870e-16 8.69803149e-17]\n",
      " [1.84722916e-17 1.00000000e+00 9.81978665e-19 1.16182140e-16\n",
      "  3.00158763e-17 1.34844946e-16 3.84535922e-17 1.71149878e-16\n",
      "  3.00883294e-17 8.59529605e-17]\n",
      " [2.95965508e-17 1.35486131e-17 1.00000000e+00 7.14927397e-17\n",
      "  2.03442285e-17 1.64562148e-16 1.71961871e-16 3.63329811e-17\n",
      "  7.12315994e-17 6.51403711e-17]\n",
      " [9.67353775e-18 3.00121608e-17 3.19098470e-17 1.00000000e+00\n",
      "  2.24270194e-17 1.60653681e-17 6.93144941e-17 6.90039971e-17\n",
      "  5.65092188e-17 7.87112001e-17]\n",
      " [1.34260469e-17 5.14391098e-17 1.70929175e-17 1.34985548e-17\n",
      "  1.00000000e+00 6.08698972e-18 9.00626008e-17 1.04811819e-16\n",
      "  1.42108792e-16 2.95711873e-17]\n",
      " [2.84978064e-17 1.34478770e-17 4.42155948e-17 6.84939768e-17\n",
      "  4.21769548e-17 1.00000000e+00 1.71967878e-16 1.39725975e-16\n",
      "  7.12477463e-17 1.02192709e-16]\n",
      " [8.20007554e-17 1.30236701e-17 1.32748331e-16 1.86721150e-16\n",
      "  8.27054377e-17 2.52378775e-17 1.00000000e+00 1.01149890e-16\n",
      "  9.93227915e-17 1.05443805e-16]\n",
      " [2.11903792e-17 1.42416306e-16 9.45078132e-17 1.51792334e-16\n",
      "  3.53004170e-17 3.24100925e-17 1.26248468e-16 1.00000000e+00\n",
      "  9.06192824e-17 1.33901278e-16]\n",
      " [3.31749723e-17 2.53235534e-17 1.34773741e-17 2.17306951e-17\n",
      "  2.80734896e-17 7.20219304e-17 7.31242446e-18 1.61293190e-17\n",
      "  1.00000000e+00 6.51407675e-17]\n",
      " [3.17807254e-17 9.52458911e-17 8.27057592e-17 1.46483063e-16\n",
      "  1.00839992e-16 7.15529666e-17 1.47823222e-16 1.87411936e-16\n",
      "  1.42000830e-18 1.00000000e+00]]\n"
     ]
    },
    {
     "data": {
      "image/png": "[encoded data removed]",
      "text/plain": [
       "<Figure size 480x480 with 1 Axes>"
      ]
     },
     "metadata": {},
     "output_type": "display_data"
    },
    {
     "name": "stdout",
     "output_type": "stream",
     "text": [
      "[[0.82030106 0.54592874 0.00868564 0.06227277 0.04304726 0.02283596\n",
      "  0.0438316  0.00937559 0.06394155 0.04025373]\n",
      " [0.54295337 0.87869373 0.09231483 0.09555199 0.00971929 0.01423246\n",
      "  0.02950752 0.05130018 0.03920518 0.02332393]\n",
      " [0.09015997 0.10756166 0.43115031 0.92933133 0.02571494 0.00808017\n",
      "  0.02625658 0.03396724 0.13287083 0.04161563]\n",
      " [0.02600478 0.06147048 0.8843703  0.38984279 0.06411412 0.00807175\n",
      "  0.04978311 0.01092232 0.0150915  0.07112976]\n",
      " [0.04267694 0.00608761 0.0256134  0.02655459 0.96693012 0.26972576\n",
      "  0.02663484 0.05197161 0.12438519 0.10112397]\n",
      " [0.04004564 0.02282767 0.00195224 0.00803837 0.27986567 0.94999952\n",
      "  0.02871729 0.04176463 0.07126554 0.09156992]\n",
      " [0.06894035 0.03489246 0.00829271 0.01378546 0.01971855 0.00970647\n",
      "  0.09346905 1.01040029 0.0213696  0.08461905]\n",
      " [0.02911996 0.01106419 0.01163905 0.03939901 0.01238806 0.00762915\n",
      "  0.98631703 0.18919519 0.03234366 0.21142088]\n",
      " [0.0423751  0.00970429 0.01534056 0.03529347 0.03817459 0.00960103\n",
      "  0.00498602 0.012719   0.65455876 0.79836462]\n",
      " [0.0387887  0.04923895 0.04032659 0.02289774 0.04208265 0.00570029\n",
      "  0.01208881 0.07502551 0.67601568 0.66447139]]\n"
     ]
    },
    {
     "data": {
      "image/png": "[encoded data removed]",
      "text/plain": [
       "<Figure size 480x480 with 1 Axes>"
      ]
     },
     "metadata": {},
     "output_type": "display_data"
    },
    {
     "name": "stdout",
     "output_type": "stream",
     "text": [
      "[[9.86925729e-01 2.00152755e-02 1.85325250e-02 4.73883150e-03\n",
      "  5.79511351e-02 2.16595406e-02 3.60565440e-03 9.18247673e-03\n",
      "  4.48379887e-02 6.35410010e-02]\n",
      " [1.65037431e-02 9.95482792e-01 3.30223392e-02 2.00603867e-01\n",
      "  1.91679846e-02 1.97126459e-03 1.51763182e-02 1.70854028e-02\n",
      "  2.38087802e-02 3.46289198e-03]\n",
      " [8.49875077e-02 1.19165300e-01 1.02591690e+00 1.15937736e-02\n",
      "  4.62924439e-02 2.56188615e-02 1.60380918e-02 2.34720220e-02\n",
      "  9.75200474e-02 7.06301042e-02]\n",
      " [1.52446463e-01 1.17611123e-01 1.41511775e-03 9.70131511e-01\n",
      "  1.08935153e-01 2.06996199e-02 4.05943689e-02 4.61235834e-02\n",
      "  3.72893960e-02 9.29682308e-02]\n",
      " [9.43245102e-03 1.23470690e-02 3.94890525e-03 7.29414797e-02\n",
      "  1.00556874e+00 2.24958140e-03 8.31686383e-03 1.80838904e-02\n",
      "  1.16917612e-02 1.09968014e-02]\n",
      " [4.33032530e-03 3.47925649e-03 1.67275441e-02 1.63304281e-02\n",
      "  1.17690239e-02 9.92060803e-01 1.01147708e-03 8.79669229e-03\n",
      "  8.37441914e-03 6.72915801e-02]\n",
      " [5.54729034e-03 1.89105886e-02 5.80533891e-02 3.93778850e-02\n",
      "  7.33575369e-03 7.01024074e-03 9.96791499e-01 1.59856613e-02\n",
      "  2.67357369e-02 1.04508950e-02]\n",
      " [4.92734148e-03 7.78546036e-03 3.99315549e-03 2.67612238e-02\n",
      "  4.30758788e-02 5.01219706e-04 5.96310060e-03 9.97570341e-01\n",
      "  1.14942490e-02 7.08134879e-03]\n",
      " [5.81309269e-03 8.25609357e-03 4.07570249e-02 6.03995114e-02\n",
      "  1.19629708e-03 1.83768429e-02 6.93883666e-03 1.38851061e-02\n",
      "  1.00418517e+00 8.29837395e-03]\n",
      " [5.63530374e-05 8.73949511e-03 1.02092316e-02 2.53851534e-02\n",
      "  1.34837315e-02 1.39831370e-03 3.85293066e-04 2.67654835e-02\n",
      "  9.20380967e-03 9.56321836e-01]]\n"
     ]
    },
    {
     "data": {
      "image/png": "[encoded data removed]",
      "text/plain": [
       "<Figure size 480x480 with 1 Axes>"
      ]
     },
     "metadata": {},
     "output_type": "display_data"
    },
    {
     "name": "stdout",
     "output_type": "stream",
     "text": [
      "[[7.23658695e-02 9.74634282e-01 2.49850336e-02 6.49368570e-02\n",
      "  7.22180178e-03 2.02287307e-02 4.08453542e-03 8.05793281e-04\n",
      "  1.60941185e-02 3.46363172e-03]\n",
      " [1.00566919e+00 2.16058763e-01 2.41480930e-02 6.20897392e-02\n",
      "  2.13705292e-02 2.29657819e-02 3.66144113e-02 3.07590179e-02\n",
      "  4.30234630e-02 6.97213838e-03]\n",
      " [1.01101943e-01 1.14942210e-02 9.41856088e-01 2.69372765e-01\n",
      "  3.34767436e-03 2.16325067e-02 3.26083542e-03 6.79189195e-02\n",
      "  5.69280163e-02 5.59695396e-03]\n",
      " [1.25435463e-01 1.80345525e-02 2.94253224e-01 9.76810080e-01\n",
      "  4.78179407e-02 5.21576856e-02 5.61643073e-02 6.07765434e-02\n",
      "  2.78811607e-02 6.38509810e-03]\n",
      " [2.31067896e-02 1.78469311e-02 2.85445507e-03 1.03945567e-02\n",
      "  6.06637023e-01 7.41315977e-01 3.93857576e-02 2.71248231e-02\n",
      "  9.49383095e-03 5.33350521e-02]\n",
      " [1.77319608e-02 3.07466122e-02 3.97897405e-02 1.92666634e-02\n",
      "  7.66835869e-01 6.93196354e-01 1.01139491e-02 1.00900437e-01\n",
      "  1.58333432e-01 3.35062860e-02]\n",
      " [2.55287862e-02 1.43149613e-02 4.56071842e-02 3.99590730e-02\n",
      "  2.23806404e-02 2.81318702e-02 4.84550546e-01 9.32762166e-01\n",
      "  6.16872086e-02 1.81736908e-02]\n",
      " [1.31612358e-02 2.36272805e-02 1.17783738e-02 2.36168333e-02\n",
      "  3.53463845e-02 1.12069941e-02 9.04634682e-01 3.48550051e-01\n",
      "  1.51820361e-02 1.72342924e-02]\n",
      " [4.55826104e-02 2.94345376e-03 3.88321902e-02 4.38651892e-02\n",
      "  6.90221142e-02 4.11461817e-02 5.71534425e-02 1.91037784e-02\n",
      "  8.17241868e-01 5.49492895e-01]\n",
      " [2.50083975e-02 2.70333994e-02 3.04438433e-02 1.06696948e-02\n",
      "  4.90632901e-02 6.76262190e-02 3.65389293e-03 7.08040647e-02\n",
      "  5.41969697e-01 8.54347356e-01]]\n"
     ]
    },
    {
     "data": {
      "image/png": "[encoded data removed]",
      "text/plain": [
       "<Figure size 480x480 with 1 Axes>"
      ]
     },
     "metadata": {},
     "output_type": "display_data"
    },
    {
     "name": "stdout",
     "output_type": "stream",
     "text": [
      "[[1.05692827e-01 9.47970367e-01 1.94168942e-02 7.87025882e-02\n",
      "  4.32893281e-03 1.23403954e-03 3.03884240e-02 2.39660580e-02\n",
      "  3.96844917e-02 2.34509540e-03]\n",
      " [1.00459063e+00 1.83346236e-01 4.06946359e-02 5.70275672e-02\n",
      "  2.22837527e-04 8.26407765e-03 3.11952156e-02 1.09200303e-02\n",
      "  7.70304397e-02 2.15884855e-02]\n",
      " [4.50795806e-02 5.89200449e-03 9.63335356e-01 2.93130135e-01\n",
      "  4.33432964e-02 4.59542710e-02 4.89812720e-03 4.81569295e-03\n",
      "  8.24192551e-02 4.21911056e-02]\n",
      " [1.16766954e-01 1.67542219e-02 2.88053506e-01 9.44716214e-01\n",
      "  8.28098210e-03 3.33143899e-02 4.74714440e-02 9.56553899e-03\n",
      "  9.59357275e-02 1.96965702e-02]\n",
      " [3.37348172e-02 2.90294785e-02 1.45604191e-02 9.19096291e-03\n",
      "  6.05271703e-01 7.47357030e-01 2.25956168e-02 4.58523524e-02\n",
      "  4.20381157e-02 6.24739792e-02]\n",
      " [4.05829640e-02 1.09070680e-02 2.18398265e-02 4.50562790e-02\n",
      "  7.56717563e-01 6.88176254e-01 6.92752834e-02 5.48024035e-02\n",
      "  1.37510671e-01 2.17840204e-02]\n",
      " [5.36279351e-02 2.32767795e-02 7.62189610e-02 2.05887701e-02\n",
      "  6.77158307e-03 4.13258132e-02 4.44453418e-01 9.01487562e-01\n",
      "  1.87434234e-02 9.67672450e-03]\n",
      " [2.85526890e-02 2.78112704e-03 1.65279527e-02 7.75003123e-02\n",
      "  1.37241778e-02 1.51936777e-02 9.13222755e-01 3.84324440e-01\n",
      "  1.56715684e-02 3.83092909e-02]\n",
      " [6.70992919e-02 1.69938939e-03 4.15507921e-02 4.86066435e-02\n",
      "  7.50400552e-02 4.07098202e-02 2.03208666e-02 3.43649163e-02\n",
      "  8.04281646e-01 5.46327659e-01]\n",
      " [5.52577633e-02 3.49683866e-02 3.09188896e-02 1.64184227e-02\n",
      "  3.40083637e-02 5.75246785e-02 6.39849821e-02 2.86886975e-02\n",
      "  5.22577176e-01 8.60680379e-01]]\n"
     ]
    },
    {
     "data": {
      "image/png": "[encoded data removed]",
      "text/plain": [
       "<Figure size 480x480 with 1 Axes>"
      ]
     },
     "metadata": {},
     "output_type": "display_data"
    }
   ],
   "source": [
    "for i in range(10):\n",
    "    plt.matshow(block_Ms[i])\n",
    "    print(block_Ms[i])\n",
    "    plt.show()"
   ]
  },
  {
   "cell_type": "code",
   "execution_count": null,
   "id": "0238f900-d0b1-4fd0-aa7d-6b1ce9ad3455",
   "metadata": {},
   "outputs": [],
   "source": []
  }
 ],
 "metadata": {
  "kernelspec": {
   "display_name": "Python 3 (ipykernel)",
   "language": "python",
   "name": "python3"
  },
  "language_info": {
   "codemirror_mode": {
    "name": "ipython",
    "version": 3
   },
   "file_extension": ".py",
   "mimetype": "text/x-python",
   "name": "python",
   "nbconvert_exporter": "python",
   "pygments_lexer": "ipython3",
   "version": "3.11.9"
  }
 },
 "nbformat": 4,
 "nbformat_minor": 5
}
