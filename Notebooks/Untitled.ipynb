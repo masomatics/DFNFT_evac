{
 "cells": [
  {
   "cell_type": "code",
   "execution_count": 1,
   "id": "3fab7fa7-dd26-432b-9b62-1b0f895fc07f",
   "metadata": {},
   "outputs": [
    {
     "name": "stdout",
     "output_type": "stream",
     "text": [
      "\u001b[0m\u001b[01;34mOneDCyclic_fordebug_baseline\u001b[0m/  \u001b[01;34mone_dim_cyclic_fordebug_baseline\u001b[0m/\n",
      "\u001b[01;34mOneDsignal_fordebug_baseline\u001b[0m/  \u001b[01;34mone_dim_signal_fordebug_baseline\u001b[0m/\n"
     ]
    }
   ],
   "source": [
    "ls ../dnftresult"
   ]
  },
  {
   "cell_type": "code",
   "execution_count": 2,
   "id": "acd6b8c5-e8be-4464-89fa-b6ff59ec6024",
   "metadata": {},
   "outputs": [],
   "source": [
    "import sys\n",
    "import yaml\n",
    "sys.path.append('../')\n",
    "import os\n",
    "import torch\n",
    "from misc import yaml_util as yu\n",
    "sys.path.append('../dataset')\n",
    "sys.path.append('../module')\n",
    "from matplotlib import pyplot as plt\n",
    "from torch.utils.data import DataLoader\n",
    "from misc import character_analysis as ca\n"
   ]
  },
  {
   "cell_type": "code",
   "execution_count": 3,
   "id": "a13d0a86-bc61-45ae-be4e-357ab06ee046",
   "metadata": {},
   "outputs": [
    {
     "name": "stdout",
     "output_type": "stream",
     "text": [
      "./dataset/one_dim_signal.py\n",
      "[0, 8, 16, 32, 48]\n",
      "0\n",
      "torch.Size([1, 3, 128])\n"
     ]
    },
    {
     "data": {
      "text/plain": [
       "NFT(\n",
       "  (encoder): MLPEncoder(\n",
       "    (activation_fxn): Tanh()\n",
       "    (net): Sequential(\n",
       "      (0): Linear(in_features=128, out_features=130, bias=True)\n",
       "      (1): MaskFlatLinear()\n",
       "      (2): Tanh()\n",
       "      (3): MaskFlatLinear()\n",
       "      (4): Tanh()\n",
       "      (5): MaskFlatLinear()\n",
       "    )\n",
       "  )\n",
       "  (decoder): MLPDecoder(\n",
       "    (activation_fxn): Tanh()\n",
       "    (net): Sequential(\n",
       "      (0): MaskFlatLinear()\n",
       "      (1): Tanh()\n",
       "      (2): MaskFlatLinear()\n",
       "      (3): Tanh()\n",
       "      (4): MaskFlatLinear()\n",
       "      (5): Linear(in_features=130, out_features=128, bias=True)\n",
       "    )\n",
       "  )\n",
       ")"
      ]
     },
     "execution_count": 3,
     "metadata": {},
     "output_type": "execute_result"
    }
   ],
   "source": [
    "datname = 'one_dim_signal'\n",
    "# datname = 'one_dim_cyclic'\n",
    "modelname = 'fordebug'\n",
    "#modelname = 'mlp1layer_nonDim'\n",
    "# modelname = 'mask1layer'\n",
    "\n",
    "trainname = 'baseline'\n",
    "with open(f'''../cfg_data/{datname}.yaml''', 'rb') as f:\n",
    "    cfg_data = yaml.safe_load(f)\n",
    "\n",
    "cfg_data['args']['shift_label'] = True\n",
    "mydata = yu.load_component(cfg_data) \n",
    "\n",
    "myloader = DataLoader(mydata, batch_size=20,\n",
    "                        shuffle=True, \n",
    "                        num_workers=1,\n",
    "                        )\n",
    "\n",
    "\n",
    "seq, shift =  mydata[0]\n",
    "seq = seq[None, :]\n",
    "print(seq.shape)\n",
    "\n",
    "exp_name = f'''{datname}_{modelname}_{trainname}'''\n",
    "\n",
    "exppath = os.path.join(\"../dnftresult\", exp_name)\n",
    "if not os.path.exists(exppath):\n",
    "    raise NotImplementedError\n",
    "mymodelpath = f\"\"\"{exppath}/model.pt\"\"\"\n",
    "mymodel = torch.load(mymodelpath)\n",
    "mymodel = mymodel.to(0)\n",
    "mymodel"
   ]
  },
  {
   "cell_type": "code",
   "execution_count": 4,
   "id": "473da7c3-bf12-4ab1-b22a-477cd2a24d9e",
   "metadata": {},
   "outputs": [],
   "source": [
    "Ms = []\n",
    "shifts = [] \n",
    "for k in range(100):\n",
    "    evalseq, shift = next(iter(myloader))\n",
    "    evalseq = evalseq[:, :2].to(mymodel.encoder.device)\n",
    "    predicted = mymodel(evalseq, n_rolls=1)\n",
    "    shifts.append(shift)\n",
    "    Ms.append(mymodel.dynamics.M) \n",
    "    \n",
    "shifts = torch.concatenate(shifts)\n",
    "Ms = torch.concatenate(Ms)"
   ]
  },
  {
   "cell_type": "code",
   "execution_count": null,
   "id": "14982a4d-25d3-4471-a20e-bbae1820f054",
   "metadata": {},
   "outputs": [
    {
     "name": "stderr",
     "output_type": "stream",
     "text": [
      "  0%|          | 0/65 [00:00<?, ?it/s]"
     ]
    }
   ],
   "source": [
    "from importlib import reload\n",
    "reload(ca)\n",
    "targfreq, prods = ca.inner_prod(Ms, shifts, maxfreq=64, bins=65)"
   ]
  },
  {
   "cell_type": "code",
   "execution_count": null,
   "id": "31182c0f-250c-42c5-8d75-e6131d08588e",
   "metadata": {},
   "outputs": [],
   "source": [
    "plt.figure()\n",
    "plt.plot(targfreq, prods, label='learnt')\n",
    "deltas = ca.deltafxn(targfreq, mydata.freqsel)*2\n",
    "plt.plot(targfreq, deltas, label='gt',alpha=0.5)\n",
    "\n",
    "plt.title(f\"\"\"Frequencies learnt from datasets with Freq:{mydata.freqsel}\"\"\")\n",
    "plt.legend()"
   ]
  },
  {
   "cell_type": "code",
   "execution_count": null,
   "id": "17e0144f-dd3a-4cb0-8731-ed6d5cdf8eed",
   "metadata": {},
   "outputs": [],
   "source": [
    "modelname"
   ]
  },
  {
   "cell_type": "code",
   "execution_count": null,
   "id": "3adb219b-0fe6-4d99-9a48-e7869b7f0cb2",
   "metadata": {},
   "outputs": [],
   "source": []
  }
 ],
 "metadata": {
  "kernelspec": {
   "display_name": "Python 3 (ipykernel)",
   "language": "python",
   "name": "python3"
  },
  "language_info": {
   "codemirror_mode": {
    "name": "ipython",
    "version": 3
   },
   "file_extension": ".py",
   "mimetype": "text/x-python",
   "name": "python",
   "nbconvert_exporter": "python",
   "pygments_lexer": "ipython3",
   "version": "3.11.9"
  }
 },
 "nbformat": 4,
 "nbformat_minor": 5
}
